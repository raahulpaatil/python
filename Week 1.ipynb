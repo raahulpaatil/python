{
 "cells": [
  {
   "cell_type": "markdown",
   "id": "09a1fd6e",
   "metadata": {},
   "source": [
    "# DAY 1"
   ]
  },
  {
   "cell_type": "code",
   "execution_count": 1,
   "id": "7034fd5b",
   "metadata": {},
   "outputs": [],
   "source": [
    "a=\"hello world\""
   ]
  },
  {
   "cell_type": "code",
   "execution_count": 2,
   "id": "84f4683d",
   "metadata": {},
   "outputs": [
    {
     "name": "stdout",
     "output_type": "stream",
     "text": [
      "hello world\n"
     ]
    }
   ],
   "source": [
    "print(a)"
   ]
  },
  {
   "cell_type": "code",
   "execution_count": 4,
   "id": "14bd51b3",
   "metadata": {},
   "outputs": [
    {
     "data": {
      "text/plain": [
       "'e'"
      ]
     },
     "execution_count": 4,
     "metadata": {},
     "output_type": "execute_result"
    }
   ],
   "source": [
    "a[1]"
   ]
  },
  {
   "cell_type": "code",
   "execution_count": 5,
   "id": "ffb3e0bd",
   "metadata": {},
   "outputs": [
    {
     "data": {
      "text/plain": [
       "'hel'"
      ]
     },
     "execution_count": 5,
     "metadata": {},
     "output_type": "execute_result"
    }
   ],
   "source": [
    "a[0:3]"
   ]
  },
  {
   "cell_type": "code",
   "execution_count": 12,
   "id": "9727f462",
   "metadata": {},
   "outputs": [
    {
     "data": {
      "text/plain": [
       "True"
      ]
     },
     "execution_count": 12,
     "metadata": {},
     "output_type": "execute_result"
    }
   ],
   "source": [
    "bool(a)"
   ]
  },
  {
   "cell_type": "code",
   "execution_count": 13,
   "id": "7de69886",
   "metadata": {},
   "outputs": [
    {
     "data": {
      "text/plain": [
       "False"
      ]
     },
     "execution_count": 13,
     "metadata": {},
     "output_type": "execute_result"
    }
   ],
   "source": [
    "bool()"
   ]
  },
  {
   "cell_type": "code",
   "execution_count": 14,
   "id": "ee86c3ec",
   "metadata": {},
   "outputs": [
    {
     "data": {
      "text/plain": [
       "False"
      ]
     },
     "execution_count": 14,
     "metadata": {},
     "output_type": "execute_result"
    }
   ],
   "source": [
    "bool(0)"
   ]
  },
  {
   "cell_type": "code",
   "execution_count": 21,
   "id": "9e453004",
   "metadata": {},
   "outputs": [],
   "source": [
    "b=100\n",
    "c= 1.1\n",
    "d=True\n",
    "e=5+7j"
   ]
  },
  {
   "cell_type": "code",
   "execution_count": 22,
   "id": "1098fd6e",
   "metadata": {},
   "outputs": [
    {
     "data": {
      "text/plain": [
       "str"
      ]
     },
     "execution_count": 22,
     "metadata": {},
     "output_type": "execute_result"
    }
   ],
   "source": [
    "type(a)"
   ]
  },
  {
   "cell_type": "code",
   "execution_count": 23,
   "id": "fb9f50a8",
   "metadata": {},
   "outputs": [
    {
     "data": {
      "text/plain": [
       "int"
      ]
     },
     "execution_count": 23,
     "metadata": {},
     "output_type": "execute_result"
    }
   ],
   "source": [
    "type(b)"
   ]
  },
  {
   "cell_type": "code",
   "execution_count": 24,
   "id": "aeeed59b",
   "metadata": {},
   "outputs": [
    {
     "data": {
      "text/plain": [
       "float"
      ]
     },
     "execution_count": 24,
     "metadata": {},
     "output_type": "execute_result"
    }
   ],
   "source": [
    "type(c)"
   ]
  },
  {
   "cell_type": "code",
   "execution_count": 25,
   "id": "b28800e2",
   "metadata": {},
   "outputs": [
    {
     "data": {
      "text/plain": [
       "bool"
      ]
     },
     "execution_count": 25,
     "metadata": {},
     "output_type": "execute_result"
    }
   ],
   "source": [
    "type(d)"
   ]
  },
  {
   "cell_type": "code",
   "execution_count": 26,
   "id": "4ddf7064",
   "metadata": {},
   "outputs": [
    {
     "data": {
      "text/plain": [
       "complex"
      ]
     },
     "execution_count": 26,
     "metadata": {},
     "output_type": "execute_result"
    }
   ],
   "source": [
    "type(e)"
   ]
  },
  {
   "cell_type": "code",
   "execution_count": 33,
   "id": "82eb245f",
   "metadata": {},
   "outputs": [],
   "source": [
    "a=10\n",
    "b=3.0\n",
    "c=a/b"
   ]
  },
  {
   "cell_type": "code",
   "execution_count": 34,
   "id": "40ed5136",
   "metadata": {},
   "outputs": [
    {
     "data": {
      "text/plain": [
       "float"
      ]
     },
     "execution_count": 34,
     "metadata": {},
     "output_type": "execute_result"
    }
   ],
   "source": [
    "type(c)"
   ]
  },
  {
   "cell_type": "code",
   "execution_count": 35,
   "id": "565b4515",
   "metadata": {},
   "outputs": [
    {
     "data": {
      "text/plain": [
       "3.3333333333333335"
      ]
     },
     "execution_count": 35,
     "metadata": {},
     "output_type": "execute_result"
    }
   ],
   "source": [
    "c"
   ]
  },
  {
   "cell_type": "code",
   "execution_count": 75,
   "id": "ab20da1b",
   "metadata": {},
   "outputs": [],
   "source": [
    "a=40.0"
   ]
  },
  {
   "cell_type": "code",
   "execution_count": 76,
   "id": "20d50907",
   "metadata": {},
   "outputs": [],
   "source": [
    "a=int(a)"
   ]
  },
  {
   "cell_type": "code",
   "execution_count": 77,
   "id": "c08ad226",
   "metadata": {},
   "outputs": [
    {
     "data": {
      "text/plain": [
       "int"
      ]
     },
     "execution_count": 77,
     "metadata": {},
     "output_type": "execute_result"
    }
   ],
   "source": [
    "type(a)"
   ]
  },
  {
   "cell_type": "code",
   "execution_count": 78,
   "id": "b74ec62e",
   "metadata": {},
   "outputs": [
    {
     "data": {
      "text/plain": [
       "40"
      ]
     },
     "execution_count": 78,
     "metadata": {},
     "output_type": "execute_result"
    }
   ],
   "source": [
    "a"
   ]
  },
  {
   "cell_type": "code",
   "execution_count": 85,
   "id": "5366ee64",
   "metadata": {},
   "outputs": [],
   "source": [
    "a=\"10\"\n",
    "b=40\n",
    "c=39.5"
   ]
  },
  {
   "cell_type": "code",
   "execution_count": 86,
   "id": "e89e29f8",
   "metadata": {},
   "outputs": [
    {
     "data": {
      "text/plain": [
       "str"
      ]
     },
     "execution_count": 86,
     "metadata": {},
     "output_type": "execute_result"
    }
   ],
   "source": [
    "type(a)"
   ]
  },
  {
   "cell_type": "code",
   "execution_count": 87,
   "id": "a808485f",
   "metadata": {},
   "outputs": [
    {
     "data": {
      "text/plain": [
       "int"
      ]
     },
     "execution_count": 87,
     "metadata": {},
     "output_type": "execute_result"
    }
   ],
   "source": [
    "type(b)"
   ]
  },
  {
   "cell_type": "code",
   "execution_count": 88,
   "id": "12851dc0",
   "metadata": {},
   "outputs": [
    {
     "data": {
      "text/plain": [
       "float"
      ]
     },
     "execution_count": 88,
     "metadata": {},
     "output_type": "execute_result"
    }
   ],
   "source": [
    "type(c)"
   ]
  },
  {
   "cell_type": "code",
   "execution_count": 91,
   "id": "13fb1213",
   "metadata": {},
   "outputs": [],
   "source": [
    "c=int(c)"
   ]
  },
  {
   "cell_type": "code",
   "execution_count": 92,
   "id": "4d8dd22c",
   "metadata": {},
   "outputs": [
    {
     "data": {
      "text/plain": [
       "39"
      ]
     },
     "execution_count": 92,
     "metadata": {},
     "output_type": "execute_result"
    }
   ],
   "source": [
    "c"
   ]
  },
  {
   "cell_type": "code",
   "execution_count": 100,
   "id": "26c29842",
   "metadata": {},
   "outputs": [
    {
     "name": "stdout",
     "output_type": "stream",
     "text": [
      "In a spell of dry weather,\n",
      "when the birds could find very little to drink,\n",
      "a thirsty crow found a pitcher with a little water in it.\n"
     ]
    }
   ],
   "source": [
    "print(\"In a spell of dry weather,\\nwhen the birds could find very little to drink,\\na thirsty crow found a pitcher with a little water in it.\")"
   ]
  },
  {
   "cell_type": "code",
   "execution_count": 148,
   "id": "2942b6aa",
   "metadata": {},
   "outputs": [],
   "source": [
    "str=\"hello world\""
   ]
  },
  {
   "cell_type": "code",
   "execution_count": 150,
   "id": "f189866a",
   "metadata": {},
   "outputs": [
    {
     "data": {
      "text/plain": [
       "'l'"
      ]
     },
     "execution_count": 150,
     "metadata": {},
     "output_type": "execute_result"
    }
   ],
   "source": [
    "str[3]"
   ]
  },
  {
   "cell_type": "code",
   "execution_count": 103,
   "id": "e6284c79",
   "metadata": {},
   "outputs": [
    {
     "data": {
      "text/plain": [
       "'hell'"
      ]
     },
     "execution_count": 103,
     "metadata": {},
     "output_type": "execute_result"
    }
   ],
   "source": [
    "str[0:4]"
   ]
  },
  {
   "cell_type": "code",
   "execution_count": 110,
   "id": "7812e883",
   "metadata": {},
   "outputs": [
    {
     "data": {
      "text/plain": [
       "'rld'"
      ]
     },
     "execution_count": 110,
     "metadata": {},
     "output_type": "execute_result"
    }
   ],
   "source": [
    "str[-3:]"
   ]
  },
  {
   "cell_type": "code",
   "execution_count": 113,
   "id": "decbfd67",
   "metadata": {},
   "outputs": [
    {
     "data": {
      "text/plain": [
       "False"
      ]
     },
     "execution_count": 113,
     "metadata": {},
     "output_type": "execute_result"
    }
   ],
   "source": [
    "a=9\n",
    "b=7\n",
    "a<=b"
   ]
  },
  {
   "cell_type": "code",
   "execution_count": 119,
   "id": "7775a1b4",
   "metadata": {},
   "outputs": [
    {
     "data": {
      "text/plain": [
       "'dlrow olleh'"
      ]
     },
     "execution_count": 119,
     "metadata": {},
     "output_type": "execute_result"
    }
   ],
   "source": [
    "str[10::-1]"
   ]
  },
  {
   "cell_type": "raw",
   "id": "6123fba7",
   "metadata": {},
   "source": []
  },
  {
   "cell_type": "code",
   "execution_count": 120,
   "id": "b8f37e6a",
   "metadata": {},
   "outputs": [
    {
     "data": {
      "text/plain": [
       "'hlowrd'"
      ]
     },
     "execution_count": 120,
     "metadata": {},
     "output_type": "execute_result"
    }
   ],
   "source": [
    "str[0::2]"
   ]
  },
  {
   "cell_type": "code",
   "execution_count": 121,
   "id": "fa0e3ed9",
   "metadata": {},
   "outputs": [
    {
     "data": {
      "text/plain": [
       "'hello'"
      ]
     },
     "execution_count": 121,
     "metadata": {},
     "output_type": "execute_result"
    }
   ],
   "source": [
    "str[0:5:1]"
   ]
  },
  {
   "cell_type": "code",
   "execution_count": 122,
   "id": "cfc545b2",
   "metadata": {},
   "outputs": [
    {
     "data": {
      "text/plain": [
       "'hlo'"
      ]
     },
     "execution_count": 122,
     "metadata": {},
     "output_type": "execute_result"
    }
   ],
   "source": [
    "str[0:5:2]"
   ]
  },
  {
   "cell_type": "code",
   "execution_count": 125,
   "id": "882c0070",
   "metadata": {},
   "outputs": [
    {
     "data": {
      "text/plain": [
       "'olh'"
      ]
     },
     "execution_count": 125,
     "metadata": {},
     "output_type": "execute_result"
    }
   ],
   "source": [
    "str[4::-2]"
   ]
  },
  {
   "cell_type": "code",
   "execution_count": 126,
   "id": "78b8c5b0",
   "metadata": {},
   "outputs": [
    {
     "data": {
      "text/plain": [
       "'dlrow olleh'"
      ]
     },
     "execution_count": 126,
     "metadata": {},
     "output_type": "execute_result"
    }
   ],
   "source": [
    "str[::-1]"
   ]
  },
  {
   "cell_type": "code",
   "execution_count": 127,
   "id": "f99c8f5d",
   "metadata": {},
   "outputs": [
    {
     "data": {
      "text/plain": [
       "True"
      ]
     },
     "execution_count": 127,
     "metadata": {},
     "output_type": "execute_result"
    }
   ],
   "source": [
    "a>=b"
   ]
  },
  {
   "cell_type": "code",
   "execution_count": 129,
   "id": "130fba23",
   "metadata": {},
   "outputs": [
    {
     "name": "stdout",
     "output_type": "stream",
     "text": [
      "hello\n",
      "world\n"
     ]
    }
   ],
   "source": [
    "print(\"hello\\nworld\")"
   ]
  },
  {
   "cell_type": "code",
   "execution_count": 130,
   "id": "8c148180",
   "metadata": {},
   "outputs": [
    {
     "data": {
      "text/plain": [
       "1"
      ]
     },
     "execution_count": 130,
     "metadata": {},
     "output_type": "execute_result"
    }
   ],
   "source": [
    "a//b"
   ]
  },
  {
   "cell_type": "code",
   "execution_count": 132,
   "id": "7c38cbbd",
   "metadata": {},
   "outputs": [
    {
     "data": {
      "text/plain": [
       "3.0"
      ]
     },
     "execution_count": 132,
     "metadata": {},
     "output_type": "execute_result"
    }
   ],
   "source": [
    "9**(1/2)"
   ]
  },
  {
   "cell_type": "code",
   "execution_count": 136,
   "id": "eb0e2b6f",
   "metadata": {},
   "outputs": [],
   "source": [
    "a+=1"
   ]
  },
  {
   "cell_type": "code",
   "execution_count": 137,
   "id": "6a69b2b3",
   "metadata": {},
   "outputs": [
    {
     "data": {
      "text/plain": [
       "12"
      ]
     },
     "execution_count": 137,
     "metadata": {},
     "output_type": "execute_result"
    }
   ],
   "source": [
    "a"
   ]
  },
  {
   "cell_type": "code",
   "execution_count": 138,
   "id": "ccf5aa5a",
   "metadata": {},
   "outputs": [
    {
     "data": {
      "text/plain": [
       "19"
      ]
     },
     "execution_count": 138,
     "metadata": {},
     "output_type": "execute_result"
    }
   ],
   "source": [
    "a+=b\n",
    "a"
   ]
  },
  {
   "cell_type": "code",
   "execution_count": 139,
   "id": "d765487c",
   "metadata": {},
   "outputs": [
    {
     "data": {
      "text/plain": [
       "-20"
      ]
     },
     "execution_count": 139,
     "metadata": {},
     "output_type": "execute_result"
    }
   ],
   "source": [
    "~(a)"
   ]
  },
  {
   "cell_type": "code",
   "execution_count": 140,
   "id": "eb556722",
   "metadata": {},
   "outputs": [
    {
     "data": {
      "text/plain": [
       "10"
      ]
     },
     "execution_count": 140,
     "metadata": {},
     "output_type": "execute_result"
    }
   ],
   "source": [
    "5<<1"
   ]
  },
  {
   "cell_type": "code",
   "execution_count": 143,
   "id": "6d773d3e",
   "metadata": {},
   "outputs": [],
   "source": [
    "a=bin(5)"
   ]
  },
  {
   "cell_type": "code",
   "execution_count": 144,
   "id": "5b1335ac",
   "metadata": {},
   "outputs": [
    {
     "data": {
      "text/plain": [
       "'0b101'"
      ]
     },
     "execution_count": 144,
     "metadata": {},
     "output_type": "execute_result"
    }
   ],
   "source": [
    "a"
   ]
  },
  {
   "cell_type": "code",
   "execution_count": 145,
   "id": "ef10e124",
   "metadata": {},
   "outputs": [
    {
     "ename": "TypeError",
     "evalue": "unsupported operand type(s) for <<: 'str' and 'int'",
     "output_type": "error",
     "traceback": [
      "\u001b[1;31m---------------------------------------------------------------------------\u001b[0m",
      "\u001b[1;31mTypeError\u001b[0m                                 Traceback (most recent call last)",
      "\u001b[1;32m<ipython-input-145-116835e53bb0>\u001b[0m in \u001b[0;36m<module>\u001b[1;34m\u001b[0m\n\u001b[1;32m----> 1\u001b[1;33m \u001b[0ma\u001b[0m\u001b[1;33m<<\u001b[0m\u001b[1;36m1\u001b[0m\u001b[1;33m\u001b[0m\u001b[1;33m\u001b[0m\u001b[0m\n\u001b[0m",
      "\u001b[1;31mTypeError\u001b[0m: unsupported operand type(s) for <<: 'str' and 'int'"
     ]
    }
   ],
   "source": [
    "a<<1"
   ]
  },
  {
   "cell_type": "code",
   "execution_count": 146,
   "id": "a979f514",
   "metadata": {},
   "outputs": [
    {
     "data": {
      "text/plain": [
       "2"
      ]
     },
     "execution_count": 146,
     "metadata": {},
     "output_type": "execute_result"
    }
   ],
   "source": [
    "5>>1"
   ]
  },
  {
   "cell_type": "code",
   "execution_count": 147,
   "id": "aa00abf5",
   "metadata": {},
   "outputs": [
    {
     "data": {
      "text/plain": [
       "0"
      ]
     },
     "execution_count": 147,
     "metadata": {},
     "output_type": "execute_result"
    }
   ],
   "source": [
    "5>>3"
   ]
  },
  {
   "cell_type": "markdown",
   "id": "91cc771b",
   "metadata": {},
   "source": [
    "# DAY 2"
   ]
  },
  {
   "cell_type": "code",
   "execution_count": 22,
   "id": "b853305b",
   "metadata": {},
   "outputs": [
    {
     "name": "stdout",
     "output_type": "stream",
     "text": [
      "enter first number: 13\n",
      "enter second number: 21\n"
     ]
    }
   ],
   "source": [
    "a=int(input('enter first number: '))\n",
    "b=int(input('enter second number: '))"
   ]
  },
  {
   "cell_type": "code",
   "execution_count": 23,
   "id": "29954e3f",
   "metadata": {},
   "outputs": [
    {
     "data": {
      "text/plain": [
       "(False, True, False)"
      ]
     },
     "execution_count": 23,
     "metadata": {},
     "output_type": "execute_result"
    }
   ],
   "source": [
    "a>b,a<b,a==b"
   ]
  },
  {
   "cell_type": "code",
   "execution_count": 64,
   "id": "cf1e6258",
   "metadata": {},
   "outputs": [
    {
     "name": "stdout",
     "output_type": "stream",
     "text": [
      "enter the number: 20\n",
      "the incremented number is:  40\n",
      "enter the number: 40\n",
      "the incremented number is:  60\n"
     ]
    },
    {
     "ename": "KeyboardInterrupt",
     "evalue": "Interrupted by user",
     "output_type": "error",
     "traceback": [
      "\u001b[1;31m---------------------------------------------------------------------------\u001b[0m",
      "\u001b[1;31mKeyboardInterrupt\u001b[0m                         Traceback (most recent call last)",
      "\u001b[1;32m<ipython-input-64-b442f1bb551e>\u001b[0m in \u001b[0;36m<module>\u001b[1;34m\u001b[0m\n\u001b[0;32m      1\u001b[0m \u001b[1;32mwhile\u001b[0m \u001b[1;32mTrue\u001b[0m\u001b[1;33m:\u001b[0m\u001b[1;33m\u001b[0m\u001b[1;33m\u001b[0m\u001b[0m\n\u001b[1;32m----> 2\u001b[1;33m     \u001b[0ma\u001b[0m\u001b[1;33m=\u001b[0m \u001b[0mint\u001b[0m\u001b[1;33m(\u001b[0m\u001b[0minput\u001b[0m\u001b[1;33m(\u001b[0m\u001b[1;34m'enter the number: '\u001b[0m\u001b[1;33m)\u001b[0m\u001b[1;33m)\u001b[0m\u001b[1;33m\u001b[0m\u001b[1;33m\u001b[0m\u001b[0m\n\u001b[0m\u001b[0;32m      3\u001b[0m     \u001b[0ma\u001b[0m\u001b[1;33m+=\u001b[0m\u001b[1;36m20\u001b[0m\u001b[1;33m\u001b[0m\u001b[1;33m\u001b[0m\u001b[0m\n\u001b[0;32m      4\u001b[0m     \u001b[0mprint\u001b[0m\u001b[1;33m(\u001b[0m\u001b[1;34m'the incremented number is: '\u001b[0m\u001b[1;33m,\u001b[0m\u001b[0ma\u001b[0m\u001b[1;33m)\u001b[0m\u001b[1;33m\u001b[0m\u001b[1;33m\u001b[0m\u001b[0m\n",
      "\u001b[1;32m~\\anaconda3\\lib\\site-packages\\ipykernel\\kernelbase.py\u001b[0m in \u001b[0;36mraw_input\u001b[1;34m(self, prompt)\u001b[0m\n\u001b[0;32m    858\u001b[0m                 \u001b[1;34m\"raw_input was called, but this frontend does not support input requests.\"\u001b[0m\u001b[1;33m\u001b[0m\u001b[1;33m\u001b[0m\u001b[0m\n\u001b[0;32m    859\u001b[0m             )\n\u001b[1;32m--> 860\u001b[1;33m         return self._input_request(str(prompt),\n\u001b[0m\u001b[0;32m    861\u001b[0m             \u001b[0mself\u001b[0m\u001b[1;33m.\u001b[0m\u001b[0m_parent_ident\u001b[0m\u001b[1;33m,\u001b[0m\u001b[1;33m\u001b[0m\u001b[1;33m\u001b[0m\u001b[0m\n\u001b[0;32m    862\u001b[0m             \u001b[0mself\u001b[0m\u001b[1;33m.\u001b[0m\u001b[0m_parent_header\u001b[0m\u001b[1;33m,\u001b[0m\u001b[1;33m\u001b[0m\u001b[1;33m\u001b[0m\u001b[0m\n",
      "\u001b[1;32m~\\anaconda3\\lib\\site-packages\\ipykernel\\kernelbase.py\u001b[0m in \u001b[0;36m_input_request\u001b[1;34m(self, prompt, ident, parent, password)\u001b[0m\n\u001b[0;32m    902\u001b[0m             \u001b[1;32mexcept\u001b[0m \u001b[0mKeyboardInterrupt\u001b[0m\u001b[1;33m:\u001b[0m\u001b[1;33m\u001b[0m\u001b[1;33m\u001b[0m\u001b[0m\n\u001b[0;32m    903\u001b[0m                 \u001b[1;31m# re-raise KeyboardInterrupt, to truncate traceback\u001b[0m\u001b[1;33m\u001b[0m\u001b[1;33m\u001b[0m\u001b[1;33m\u001b[0m\u001b[0m\n\u001b[1;32m--> 904\u001b[1;33m                 \u001b[1;32mraise\u001b[0m \u001b[0mKeyboardInterrupt\u001b[0m\u001b[1;33m(\u001b[0m\u001b[1;34m\"Interrupted by user\"\u001b[0m\u001b[1;33m)\u001b[0m \u001b[1;32mfrom\u001b[0m \u001b[1;32mNone\u001b[0m\u001b[1;33m\u001b[0m\u001b[1;33m\u001b[0m\u001b[0m\n\u001b[0m\u001b[0;32m    905\u001b[0m             \u001b[1;32mexcept\u001b[0m \u001b[0mException\u001b[0m \u001b[1;32mas\u001b[0m \u001b[0me\u001b[0m\u001b[1;33m:\u001b[0m\u001b[1;33m\u001b[0m\u001b[1;33m\u001b[0m\u001b[0m\n\u001b[0;32m    906\u001b[0m                 \u001b[0mself\u001b[0m\u001b[1;33m.\u001b[0m\u001b[0mlog\u001b[0m\u001b[1;33m.\u001b[0m\u001b[0mwarning\u001b[0m\u001b[1;33m(\u001b[0m\u001b[1;34m\"Invalid Message:\"\u001b[0m\u001b[1;33m,\u001b[0m \u001b[0mexc_info\u001b[0m\u001b[1;33m=\u001b[0m\u001b[1;32mTrue\u001b[0m\u001b[1;33m)\u001b[0m\u001b[1;33m\u001b[0m\u001b[1;33m\u001b[0m\u001b[0m\n",
      "\u001b[1;31mKeyboardInterrupt\u001b[0m: Interrupted by user"
     ]
    }
   ],
   "source": [
    "while True:\n",
    "    a= int(input('enter the number: '))\n",
    "    a+=20\n",
    "    print('the incremented number is: ',a)"
   ]
  },
  {
   "cell_type": "code",
   "execution_count": 31,
   "id": "3ec12caa",
   "metadata": {},
   "outputs": [
    {
     "name": "stdout",
     "output_type": "stream",
     "text": [
      "enter the number: 40\n",
      "the final output is:  4\n"
     ]
    }
   ],
   "source": [
    "a=int(input('enter the number: '))\n",
    "b=a//20\n",
    "c=b**2\n",
    "print('the final output is: ',c)"
   ]
  },
  {
   "cell_type": "code",
   "execution_count": 32,
   "id": "9b9f7013",
   "metadata": {},
   "outputs": [
    {
     "name": "stdout",
     "output_type": "stream",
     "text": [
      "enter the radius: 4\n",
      "the area of the circle is:  50.272\n"
     ]
    }
   ],
   "source": [
    "a=int(input('enter the radius: '))\n",
    "A=3.142*a*a\n",
    "print('the area of the circle is: ', A)"
   ]
  },
  {
   "cell_type": "code",
   "execution_count": 33,
   "id": "549b3127",
   "metadata": {},
   "outputs": [
    {
     "name": "stdout",
     "output_type": "stream",
     "text": [
      "enter the Principal: 1000\n",
      "enter the interest rate: 12\n",
      "enter the tenure: 2\n",
      "the simple interest is:  240.0\n"
     ]
    }
   ],
   "source": [
    "p=int(input('enter the Principal: '))\n",
    "r=int(input('enter the interest rate: '))\n",
    "t=int(input('enter the tenure: '))\n",
    "SI=p*r*t/100\n",
    "print('the simple interest is: ',SI)\n"
   ]
  },
  {
   "cell_type": "code",
   "execution_count": 35,
   "id": "be588f35",
   "metadata": {},
   "outputs": [
    {
     "name": "stdout",
     "output_type": "stream",
     "text": [
      "enter the number: 4\n",
      "the square root of the number is:  2.0\n"
     ]
    }
   ],
   "source": [
    "a=int(input('enter the number: '))\n",
    "b= a**(1/2)\n",
    "print('the square root of the number is: ',b)"
   ]
  },
  {
   "cell_type": "code",
   "execution_count": 59,
   "id": "47aac1e1",
   "metadata": {},
   "outputs": [
    {
     "name": "stdout",
     "output_type": "stream",
     "text": [
      "enter the physics marks: 50\n",
      "enter the maths marks: 61\n",
      "both or either of them are not above 60\n"
     ]
    }
   ],
   "source": [
    "p=int(input('enter the physics marks: '))\n",
    "m=int(input('enter the maths marks: '))\n",
    "if p>60 and m>60:\n",
    "    print('both physics and maths are above 60')\n",
    "else:\n",
    "    print('both or either of them are not above 60')"
   ]
  },
  {
   "cell_type": "code",
   "execution_count": 40,
   "id": "c6a1d0bf",
   "metadata": {},
   "outputs": [
    {
     "name": "stdout",
     "output_type": "stream",
     "text": [
      "enter the radius of the circle: 4\n",
      "enter the side of the square: 5\n",
      "area of circle is greater than that of square\n"
     ]
    }
   ],
   "source": [
    "r=int(input('enter the radius of the circle: '))\n",
    "area_cir= 3.142*(r**2)\n",
    "s=int(input('enter the side of the square: ') )\n",
    "area_sq= s**2\n",
    "if area_cir>area_sq:\n",
    "    print('area of circle is greater than that of square')\n",
    "else:\n",
    "    print('area of circle is smaller than that of square')"
   ]
  },
  {
   "cell_type": "code",
   "execution_count": 41,
   "id": "b1e4021b",
   "metadata": {},
   "outputs": [
    {
     "name": "stdout",
     "output_type": "stream",
     "text": [
      "the final output is:  20.0\n"
     ]
    }
   ],
   "source": [
    "a=70\n",
    "b=30\n",
    "c=((a+b)/5)**2\n",
    "d=c**(1/2)\n",
    "print('the final output is: ',d)"
   ]
  },
  {
   "cell_type": "code",
   "execution_count": 61,
   "id": "4312be79",
   "metadata": {},
   "outputs": [
    {
     "name": "stdout",
     "output_type": "stream",
     "text": [
      "enter the weight in kg: 75\n",
      "enter the height in m: 1.73\n",
      "the candidate is overweight\n"
     ]
    }
   ],
   "source": [
    "#if elif else\n",
    "w=float(input('enter the weight in kg: '))\n",
    "h=float(input('enter the height in m: '))\n",
    "A=w/(h**2)\n",
    "if A<18.5:\n",
    "    print('the candidate is underweight')\n",
    "elif 18.6<A<24.9:\n",
    "    print('the candidate is healthy')\n",
    "else:\n",
    "    print('the candidate is overweight')"
   ]
  },
  {
   "cell_type": "code",
   "execution_count": 64,
   "id": "c506c15a",
   "metadata": {},
   "outputs": [
    {
     "name": "stdout",
     "output_type": "stream",
     "text": [
      "enter the weight in kg: 65\n",
      "enter the height in m: 1.73\n",
      "healthy\n"
     ]
    }
   ],
   "source": [
    "#nested if\n",
    "w=float(input('enter the weight in kg: '))\n",
    "h=float(input('enter the height in m: '))\n",
    "A=w/(h**2)\n",
    "if A<25:\n",
    "    if A<18.5:\n",
    "        print('underweight')\n",
    "    else:\n",
    "        print('healthy') \n",
    "else:\n",
    "    print('overweight')\n",
    "    "
   ]
  },
  {
   "cell_type": "code",
   "execution_count": 86,
   "id": "86b4760d",
   "metadata": {},
   "outputs": [
    {
     "name": "stdout",
     "output_type": "stream",
     "text": [
      "enter the physics marks: 45\n",
      "enter the maths marks: 45\n",
      "failed in both subjects\n"
     ]
    }
   ],
   "source": [
    "#nested if and elif\n",
    "p=int(input('enter the physics marks: '))\n",
    "m=int(input('enter the maths marks: '))\n",
    "if p>=60 or m>=60:\n",
    "    if p<60 and m>=60:\n",
    "        print('passed only in maths')\n",
    "    elif p>=60 and m<60:\n",
    "        print('passed only in physics')\n",
    "    else:\n",
    "        print('passed in both')\n",
    "else:\n",
    "    print('failed in both subjects')\n"
   ]
  },
  {
   "cell_type": "code",
   "execution_count": 2,
   "id": "79cd5c78",
   "metadata": {},
   "outputs": [
    {
     "name": "stdout",
     "output_type": "stream",
     "text": [
      "enter the physics marks: 45\n",
      "enter the maths marks: 65\n",
      "passed only in maths \n"
     ]
    }
   ],
   "source": [
    "#alternative for the above condition\n",
    "p=int(input('enter the physics marks: '))\n",
    "m=int(input('enter the maths marks: '))\n",
    "if m>60:\n",
    "    if p>60:\n",
    "        print('passed in both')\n",
    "    else:\n",
    "        print('passed only in maths ')\n",
    "elif p>60:\n",
    "    print('passed only in physics')\n",
    "else:\n",
    "    print('failed in both')\n",
    "    \n"
   ]
  },
  {
   "cell_type": "markdown",
   "id": "fee9e1e7",
   "metadata": {},
   "source": [
    "# DAY 3"
   ]
  },
  {
   "cell_type": "code",
   "execution_count": 4,
   "id": "d067378d",
   "metadata": {},
   "outputs": [
    {
     "name": "stdout",
     "output_type": "stream",
     "text": [
      "hello world\n",
      "hello world\n",
      "hello world\n",
      "hello world\n",
      "hello world\n",
      "hello world\n",
      "hello world\n",
      "hello world\n",
      "hello world\n"
     ]
    }
   ],
   "source": [
    "for i in range(1,10):\n",
    "    print(\"hello world\")\n",
    "  "
   ]
  },
  {
   "cell_type": "code",
   "execution_count": 6,
   "id": "83360240",
   "metadata": {},
   "outputs": [
    {
     "name": "stdout",
     "output_type": "stream",
     "text": [
      "1\n",
      "3\n",
      "5\n",
      "7\n",
      "9\n"
     ]
    }
   ],
   "source": [
    "for i in range(1,10):\n",
    "    if i%2==0:\n",
    "        continue\n",
    "    else:\n",
    "        print(i)\n",
    "        "
   ]
  },
  {
   "cell_type": "code",
   "execution_count": 9,
   "id": "5dd9d60d",
   "metadata": {},
   "outputs": [
    {
     "name": "stdout",
     "output_type": "stream",
     "text": [
      "enter the number: 5\n",
      "the number is odd\n"
     ]
    }
   ],
   "source": [
    "#exercise problems\n",
    "\n",
    "i=int(input('enter the number: '))\n",
    "if i%2==0:\n",
    "    print('the number is even')\n",
    "else:\n",
    "    print('the number is odd')"
   ]
  },
  {
   "cell_type": "code",
   "execution_count": 10,
   "id": "a69022e0",
   "metadata": {},
   "outputs": [
    {
     "name": "stdout",
     "output_type": "stream",
     "text": [
      "1\n",
      "2\n",
      "3\n",
      "4\n",
      "5\n",
      "6\n",
      "7\n",
      "8\n",
      "9\n"
     ]
    }
   ],
   "source": [
    "for i in range(1,10):\n",
    "    print(i)"
   ]
  },
  {
   "cell_type": "code",
   "execution_count": 13,
   "id": "1e5c1e79",
   "metadata": {
    "scrolled": true
   },
   "outputs": [
    {
     "name": "stdout",
     "output_type": "stream",
     "text": [
      "enter the number: 6\n"
     ]
    }
   ],
   "source": [
    "i=int(input('enter the number: '))\n"
   ]
  },
  {
   "cell_type": "code",
   "execution_count": 24,
   "id": "1fd506cb",
   "metadata": {},
   "outputs": [
    {
     "name": "stdout",
     "output_type": "stream",
     "text": [
      "enter the number: 6\n",
      "the factors are:  1\n",
      "the factors are:  2\n",
      "the factors are:  3\n",
      "the factors are:  6\n"
     ]
    }
   ],
   "source": [
    "#to print the factors\n",
    "i=int(input('enter the number: '))\n",
    "for a in range(1,i+1):\n",
    "    if i%a!=0:\n",
    "        continue\n",
    "    else:\n",
    "        print('the factors are: ',a)"
   ]
  },
  {
   "cell_type": "code",
   "execution_count": 40,
   "id": "de487fbe",
   "metadata": {},
   "outputs": [
    {
     "name": "stdout",
     "output_type": "stream",
     "text": [
      "enter the number: 1\n",
      "it is not a prime number\n"
     ]
    }
   ],
   "source": [
    "#prime number function which works for everything except 0,1,2\n",
    "a=(input('enter the number: '))\n",
    "for a in range(1,i+1):\n",
    "    if i%a==0:\n",
    "        print('it is not a prime number')\n",
    "        break\n",
    "    else:\n",
    "        print('it is a prime number')\n",
    "        "
   ]
  },
  {
   "cell_type": "code",
   "execution_count": 37,
   "id": "64d0fcbc",
   "metadata": {},
   "outputs": [
    {
     "name": "stdout",
     "output_type": "stream",
     "text": [
      "enter the number: 45\n",
      "not prime\n"
     ]
    }
   ],
   "source": [
    "#alternative prime number function\n",
    "a=int(input('enter the number: '))\n",
    "no_of_factors=0\n",
    "for i in range(2,((a//2)+1)):\n",
    "    if a%i==0:\n",
    "        no_of_factors+=1\n",
    "if no_of_factors!=0:\n",
    "    print('not prime')\n",
    "else:\n",
    "    print('prime')"
   ]
  },
  {
   "cell_type": "code",
   "execution_count": 42,
   "id": "329aa9a2",
   "metadata": {},
   "outputs": [
    {
     "name": "stdout",
     "output_type": "stream",
     "text": [
      "1\n",
      "2\n",
      "Multiple of 3\n",
      "4\n",
      "Multiple of 5\n",
      "Multiple of 3\n",
      "7\n",
      "8\n",
      "Multiple of 3\n",
      "Multiple of 5\n",
      "11\n",
      "Multiple of 3\n",
      "13\n",
      "14\n",
      "Python\n",
      "16\n",
      "17\n",
      "Multiple of 3\n",
      "19\n",
      "Multiple of 5\n",
      "Multiple of 3\n",
      "22\n",
      "23\n",
      "Multiple of 3\n",
      "Multiple of 5\n",
      "26\n",
      "Multiple of 3\n",
      "28\n",
      "29\n",
      "Python\n",
      "31\n",
      "32\n",
      "Multiple of 3\n",
      "34\n",
      "Multiple of 5\n",
      "Multiple of 3\n",
      "37\n",
      "38\n",
      "Multiple of 3\n",
      "Multiple of 5\n",
      "41\n",
      "Multiple of 3\n",
      "43\n",
      "44\n",
      "Python\n",
      "46\n",
      "47\n",
      "Multiple of 3\n",
      "49\n",
      "Multiple of 5\n",
      "Multiple of 3\n",
      "52\n",
      "53\n",
      "Multiple of 3\n",
      "Multiple of 5\n",
      "56\n",
      "Multiple of 3\n",
      "58\n",
      "59\n",
      "Python\n",
      "61\n",
      "62\n",
      "Multiple of 3\n",
      "64\n",
      "Multiple of 5\n",
      "Multiple of 3\n",
      "67\n",
      "68\n",
      "Multiple of 3\n",
      "Multiple of 5\n",
      "71\n",
      "Multiple of 3\n",
      "73\n",
      "74\n",
      "Python\n",
      "76\n",
      "77\n",
      "Multiple of 3\n",
      "79\n",
      "Multiple of 5\n",
      "Multiple of 3\n",
      "82\n",
      "83\n",
      "Multiple of 3\n",
      "Multiple of 5\n",
      "86\n",
      "Multiple of 3\n",
      "88\n",
      "89\n",
      "Python\n",
      "91\n",
      "92\n",
      "Multiple of 3\n",
      "94\n",
      "Multiple of 5\n",
      "Multiple of 3\n",
      "97\n",
      "98\n",
      "Multiple of 3\n",
      "Multiple of 5\n"
     ]
    }
   ],
   "source": [
    "for i in range(1,101):\n",
    "    if i%3==0:\n",
    "        if i%5==0:\n",
    "            print('Python')\n",
    "        else:\n",
    "            print('Multiple of 3')\n",
    "    elif i%5==0:\n",
    "        print('Multiple of 5')\n",
    "    else:\n",
    "        print(i)"
   ]
  },
  {
   "cell_type": "code",
   "execution_count": 44,
   "id": "d18608c5",
   "metadata": {},
   "outputs": [
    {
     "name": "stdout",
     "output_type": "stream",
     "text": [
      "1001\n",
      "1008\n",
      "1022\n",
      "1029\n",
      "1036\n",
      "1043\n",
      "1057\n",
      "1064\n",
      "1071\n",
      "1078\n",
      "1092\n",
      "1099\n",
      "1106\n",
      "1113\n",
      "1127\n",
      "1134\n",
      "1141\n",
      "1148\n",
      "1162\n",
      "1169\n",
      "1176\n",
      "1183\n",
      "1197\n",
      "1204\n",
      "1211\n",
      "1218\n",
      "1232\n",
      "1239\n",
      "1246\n",
      "1253\n",
      "1267\n",
      "1274\n",
      "1281\n",
      "1288\n",
      "1302\n",
      "1309\n",
      "1316\n",
      "1323\n",
      "1337\n",
      "1344\n",
      "1351\n",
      "1358\n",
      "1372\n",
      "1379\n",
      "1386\n",
      "1393\n",
      "1407\n",
      "1414\n",
      "1421\n",
      "1428\n",
      "1442\n",
      "1449\n",
      "1456\n",
      "1463\n",
      "1477\n",
      "1484\n",
      "1491\n",
      "1498\n",
      "1512\n",
      "1519\n",
      "1526\n",
      "1533\n",
      "1547\n",
      "1554\n",
      "1561\n",
      "1568\n",
      "1582\n",
      "1589\n",
      "1596\n",
      "1603\n",
      "1617\n",
      "1624\n",
      "1631\n",
      "1638\n",
      "1652\n",
      "1659\n",
      "1666\n",
      "1673\n",
      "1687\n",
      "1694\n",
      "1701\n",
      "1708\n",
      "1722\n",
      "1729\n",
      "1736\n",
      "1743\n",
      "1757\n",
      "1764\n",
      "1771\n",
      "1778\n",
      "1792\n",
      "1799\n",
      "1806\n",
      "1813\n",
      "1827\n",
      "1834\n",
      "1841\n",
      "1848\n",
      "1862\n",
      "1869\n",
      "1876\n",
      "1883\n",
      "1897\n",
      "1904\n",
      "1911\n",
      "1918\n",
      "1932\n",
      "1939\n",
      "1946\n",
      "1953\n",
      "1967\n",
      "1974\n",
      "1981\n",
      "1988\n"
     ]
    }
   ],
   "source": [
    "for i in range(1000,2001):\n",
    "    if(i%7==0):\n",
    "        if(i%5!=0):\n",
    "            print(i)\n",
    "        "
   ]
  },
  {
   "cell_type": "code",
   "execution_count": 59,
   "id": "7dd01ee5",
   "metadata": {},
   "outputs": [
    {
     "name": "stdout",
     "output_type": "stream",
     "text": [
      "enter a number: 0\n",
      "factorial is  1\n"
     ]
    }
   ],
   "source": [
    "n=int(input('enter a number: '))\n",
    "a=1\n",
    "for i in range(1,n+1):\n",
    "    a*=i\n",
    "print('factorial is ',a)\n",
    "    \n",
    "    \n"
   ]
  },
  {
   "cell_type": "code",
   "execution_count": 61,
   "id": "6a85c226",
   "metadata": {},
   "outputs": [
    {
     "name": "stdout",
     "output_type": "stream",
     "text": [
      "even count 25\n",
      "odd count 25\n"
     ]
    }
   ],
   "source": [
    "# count of even and odd numbers\n",
    "even=0\n",
    "odd=0\n",
    "for i in range(50):\n",
    "    if i%2==0:\n",
    "        even+=1\n",
    "    else:\n",
    "        odd+=1\n",
    "print('even count',even)\n",
    "print('odd count',odd)\n",
    "\n",
    "    \n",
    "    \n"
   ]
  },
  {
   "cell_type": "code",
   "execution_count": 4,
   "id": "bf7ffc84",
   "metadata": {},
   "outputs": [
    {
     "name": "stdout",
     "output_type": "stream",
     "text": [
      "Enter a string HapPy\n",
      "happy\n"
     ]
    },
    {
     "ename": "KeyboardInterrupt",
     "evalue": "Interrupted by user",
     "output_type": "error",
     "traceback": [
      "\u001b[1;31m---------------------------------------------------------------------------\u001b[0m",
      "\u001b[1;31mKeyboardInterrupt\u001b[0m                         Traceback (most recent call last)",
      "\u001b[1;32m<ipython-input-4-bf26eda4353d>\u001b[0m in \u001b[0;36m<module>\u001b[1;34m\u001b[0m\n\u001b[0;32m      1\u001b[0m \u001b[1;31m#upper case to lower case\u001b[0m\u001b[1;33m\u001b[0m\u001b[1;33m\u001b[0m\u001b[1;33m\u001b[0m\u001b[0m\n\u001b[0;32m      2\u001b[0m \u001b[1;32mwhile\u001b[0m \u001b[1;32mTrue\u001b[0m\u001b[1;33m:\u001b[0m\u001b[1;33m\u001b[0m\u001b[1;33m\u001b[0m\u001b[0m\n\u001b[1;32m----> 3\u001b[1;33m     \u001b[0ma\u001b[0m\u001b[1;33m=\u001b[0m\u001b[0minput\u001b[0m\u001b[1;33m(\u001b[0m\u001b[1;34m\"Enter a string \"\u001b[0m\u001b[1;33m)\u001b[0m\u001b[1;33m\u001b[0m\u001b[1;33m\u001b[0m\u001b[0m\n\u001b[0m\u001b[0;32m      4\u001b[0m     \u001b[1;32mif\u001b[0m \u001b[0ma\u001b[0m\u001b[1;33m==\u001b[0m\u001b[1;34m\"\"\u001b[0m \u001b[1;32mor\u001b[0m \u001b[0ma\u001b[0m\u001b[1;33m==\u001b[0m\u001b[1;34m\" \"\u001b[0m\u001b[1;33m:\u001b[0m\u001b[1;33m\u001b[0m\u001b[1;33m\u001b[0m\u001b[0m\n\u001b[0;32m      5\u001b[0m         \u001b[1;32mbreak\u001b[0m\u001b[1;33m\u001b[0m\u001b[1;33m\u001b[0m\u001b[0m\n",
      "\u001b[1;32m~\\anaconda3\\lib\\site-packages\\ipykernel\\kernelbase.py\u001b[0m in \u001b[0;36mraw_input\u001b[1;34m(self, prompt)\u001b[0m\n\u001b[0;32m    858\u001b[0m                 \u001b[1;34m\"raw_input was called, but this frontend does not support input requests.\"\u001b[0m\u001b[1;33m\u001b[0m\u001b[1;33m\u001b[0m\u001b[0m\n\u001b[0;32m    859\u001b[0m             )\n\u001b[1;32m--> 860\u001b[1;33m         return self._input_request(str(prompt),\n\u001b[0m\u001b[0;32m    861\u001b[0m             \u001b[0mself\u001b[0m\u001b[1;33m.\u001b[0m\u001b[0m_parent_ident\u001b[0m\u001b[1;33m,\u001b[0m\u001b[1;33m\u001b[0m\u001b[1;33m\u001b[0m\u001b[0m\n\u001b[0;32m    862\u001b[0m             \u001b[0mself\u001b[0m\u001b[1;33m.\u001b[0m\u001b[0m_parent_header\u001b[0m\u001b[1;33m,\u001b[0m\u001b[1;33m\u001b[0m\u001b[1;33m\u001b[0m\u001b[0m\n",
      "\u001b[1;32m~\\anaconda3\\lib\\site-packages\\ipykernel\\kernelbase.py\u001b[0m in \u001b[0;36m_input_request\u001b[1;34m(self, prompt, ident, parent, password)\u001b[0m\n\u001b[0;32m    902\u001b[0m             \u001b[1;32mexcept\u001b[0m \u001b[0mKeyboardInterrupt\u001b[0m\u001b[1;33m:\u001b[0m\u001b[1;33m\u001b[0m\u001b[1;33m\u001b[0m\u001b[0m\n\u001b[0;32m    903\u001b[0m                 \u001b[1;31m# re-raise KeyboardInterrupt, to truncate traceback\u001b[0m\u001b[1;33m\u001b[0m\u001b[1;33m\u001b[0m\u001b[1;33m\u001b[0m\u001b[0m\n\u001b[1;32m--> 904\u001b[1;33m                 \u001b[1;32mraise\u001b[0m \u001b[0mKeyboardInterrupt\u001b[0m\u001b[1;33m(\u001b[0m\u001b[1;34m\"Interrupted by user\"\u001b[0m\u001b[1;33m)\u001b[0m \u001b[1;32mfrom\u001b[0m \u001b[1;32mNone\u001b[0m\u001b[1;33m\u001b[0m\u001b[1;33m\u001b[0m\u001b[0m\n\u001b[0m\u001b[0;32m    905\u001b[0m             \u001b[1;32mexcept\u001b[0m \u001b[0mException\u001b[0m \u001b[1;32mas\u001b[0m \u001b[0me\u001b[0m\u001b[1;33m:\u001b[0m\u001b[1;33m\u001b[0m\u001b[1;33m\u001b[0m\u001b[0m\n\u001b[0;32m    906\u001b[0m                 \u001b[0mself\u001b[0m\u001b[1;33m.\u001b[0m\u001b[0mlog\u001b[0m\u001b[1;33m.\u001b[0m\u001b[0mwarning\u001b[0m\u001b[1;33m(\u001b[0m\u001b[1;34m\"Invalid Message:\"\u001b[0m\u001b[1;33m,\u001b[0m \u001b[0mexc_info\u001b[0m\u001b[1;33m=\u001b[0m\u001b[1;32mTrue\u001b[0m\u001b[1;33m)\u001b[0m\u001b[1;33m\u001b[0m\u001b[1;33m\u001b[0m\u001b[0m\n",
      "\u001b[1;31mKeyboardInterrupt\u001b[0m: Interrupted by user"
     ]
    }
   ],
   "source": [
    "#upper case to lower case\n",
    "while True:\n",
    "    a=input(\"Enter a string \")\n",
    "    if a==\"\" or a==\" \":\n",
    "        break\n",
    "    else:\n",
    "        print (a.lower())\n"
   ]
  },
  {
   "cell_type": "code",
   "execution_count": 80,
   "id": "4cb7da66",
   "metadata": {},
   "outputs": [
    {
     "name": "stdout",
     "output_type": "stream",
     "text": [
      "Enter a string JAMES BOND 007\n",
      "String count is:  9\n",
      "Numeric count is 3\n"
     ]
    }
   ],
   "source": [
    "#calculate the no of digits and letters\n",
    "string=input(\"Enter a string \")\n",
    "s_count=0\n",
    "n_count=0\n",
    "\n",
    "for i in string:\n",
    "    if i.isalpha():\n",
    "        s_count+=1\n",
    "    elif i.isnumeric():\n",
    "        n_count+=1\n",
    "print('String count is: ',s_count)\n",
    "print('Numeric count is',n_count)\n",
    " "
   ]
  },
  {
   "cell_type": "code",
   "execution_count": 83,
   "id": "c6441376",
   "metadata": {},
   "outputs": [
    {
     "name": "stdout",
     "output_type": "stream",
     "text": [
      "0\n",
      "1\n",
      "4\n",
      "27\n",
      "16\n",
      "125\n",
      "36\n",
      "343\n",
      "64\n",
      "729\n"
     ]
    }
   ],
   "source": [
    "for i in range(10):\n",
    "    if i%2==0:\n",
    "        print(i**2)\n",
    "    else:\n",
    "        print(i**3)"
   ]
  },
  {
   "cell_type": "markdown",
   "id": "013361d4",
   "metadata": {},
   "source": [
    "# DAY 4"
   ]
  },
  {
   "cell_type": "code",
   "execution_count": 10,
   "id": "ae2a4747",
   "metadata": {},
   "outputs": [
    {
     "name": "stdout",
     "output_type": "stream",
     "text": [
      "Enter a string: Rahul$$27\n"
     ]
    },
    {
     "ename": "TypeError",
     "evalue": "object of type 'builtin_function_or_method' has no len()",
     "output_type": "error",
     "traceback": [
      "\u001b[1;31m---------------------------------------------------------------------------\u001b[0m",
      "\u001b[1;31mTypeError\u001b[0m                                 Traceback (most recent call last)",
      "\u001b[1;32m<ipython-input-10-236831446e86>\u001b[0m in \u001b[0;36m<module>\u001b[1;34m\u001b[0m\n\u001b[0;32m      4\u001b[0m \u001b[1;32melif\u001b[0m \u001b[0mlen\u001b[0m\u001b[1;33m(\u001b[0m\u001b[0mi\u001b[0m\u001b[1;33m)\u001b[0m\u001b[1;33m<=\u001b[0m\u001b[1;36m8\u001b[0m\u001b[1;33m:\u001b[0m\u001b[1;33m\u001b[0m\u001b[1;33m\u001b[0m\u001b[0m\n\u001b[0;32m      5\u001b[0m     \u001b[0mprint\u001b[0m\u001b[1;33m(\u001b[0m\u001b[1;34m'invalid password'\u001b[0m\u001b[1;33m)\u001b[0m\u001b[1;33m\u001b[0m\u001b[1;33m\u001b[0m\u001b[0m\n\u001b[1;32m----> 6\u001b[1;33m \u001b[1;32melif\u001b[0m \u001b[0mlen\u001b[0m\u001b[1;33m(\u001b[0m\u001b[0mi\u001b[0m\u001b[1;33m.\u001b[0m\u001b[0misupper\u001b[0m\u001b[1;33m)\u001b[0m\u001b[1;33m<\u001b[0m\u001b[1;36m1\u001b[0m\u001b[1;33m:\u001b[0m\u001b[1;33m\u001b[0m\u001b[1;33m\u001b[0m\u001b[0m\n\u001b[0m\u001b[0;32m      7\u001b[0m     \u001b[0mprint\u001b[0m\u001b[1;33m(\u001b[0m\u001b[1;34m'invlaid password'\u001b[0m\u001b[1;33m)\u001b[0m\u001b[1;33m\u001b[0m\u001b[1;33m\u001b[0m\u001b[0m\n\u001b[0;32m      8\u001b[0m \u001b[1;32melif\u001b[0m \u001b[0mlen\u001b[0m\u001b[1;33m(\u001b[0m\u001b[0mi\u001b[0m\u001b[1;33m.\u001b[0m\u001b[0mislower\u001b[0m\u001b[1;33m)\u001b[0m\u001b[1;33m<\u001b[0m\u001b[1;36m1\u001b[0m\u001b[1;33m:\u001b[0m\u001b[1;33m\u001b[0m\u001b[1;33m\u001b[0m\u001b[0m\n",
      "\u001b[1;31mTypeError\u001b[0m: object of type 'builtin_function_or_method' has no len()"
     ]
    }
   ],
   "source": [
    "#your try\n",
    "i=input('Enter a string: ')\n",
    "if i==\"\" or i==\" \":\n",
    "    print('invalid password')\n",
    "elif len(i)<=8:\n",
    "    print('invalid password')\n",
    "elif len(i.isupper)<1:\n",
    "    print('invlaid password')\n",
    "elif len(i.islower)<1:\n",
    "    print('invalid password')\n",
    "elif i not in ['@','#','$']:\n",
    "    print('invalid password')\n",
    "else:\n",
    "    print('valid password')\n",
    "    "
   ]
  },
  {
   "cell_type": "code",
   "execution_count": 19,
   "id": "4caad7f3",
   "metadata": {},
   "outputs": [
    {
     "name": "stdout",
     "output_type": "stream",
     "text": [
      "enter your password: Rahul##24\n",
      "Valid password\n"
     ]
    }
   ],
   "source": [
    "#answer for validity of password\n",
    "#also check for alternative answers while solving\n",
    "s=input('enter your password: ')\n",
    "a=['@','$','#']\n",
    "q=w=e=r=t=0\n",
    "if len(s)>=8:\n",
    "    for i in s:\n",
    "        if i.isupper()==True:\n",
    "            q+=1\n",
    "        if i.islower()==True:\n",
    "            w+=1\n",
    "        if i.isnumeric()==True:\n",
    "            e+=1\n",
    "        if i in a:\n",
    "            r+=1\n",
    "        if i.isspace()==True:\n",
    "            t+=1\n",
    "if q>=1 and w>=1 and e>=1 and r>=1 and t==0:\n",
    "    print('Valid password')\n",
    "else:\n",
    "    print('password invalid')\n",
    "#another solution to show each error seperately, peers or stack overflow"
   ]
  },
  {
   "cell_type": "code",
   "execution_count": 25,
   "id": "36854a5a",
   "metadata": {},
   "outputs": [
    {
     "name": "stdout",
     "output_type": "stream",
     "text": [
      "enter a string: iceland\n",
      "not a palendrome\n"
     ]
    }
   ],
   "source": [
    "i= input('enter a string: ')\n",
    "if i[::]==i[::-1]:\n",
    "    print('palendrome')\n",
    "else:\n",
    "    print('not a palendrome')"
   ]
  },
  {
   "cell_type": "code",
   "execution_count": 26,
   "id": "92928176",
   "metadata": {},
   "outputs": [],
   "source": [
    "#Functions"
   ]
  },
  {
   "cell_type": "code",
   "execution_count": 29,
   "id": "b98db762",
   "metadata": {},
   "outputs": [],
   "source": [
    "#factorial of a nunber using a function\n",
    "def fact():\n",
    "    n=int(input('enter a number'))\n",
    "    a=1\n",
    "    for i in range(1,n+1):\n",
    "            a*=i\n",
    "    print('factorial is ',a)"
   ]
  },
  {
   "cell_type": "code",
   "execution_count": 30,
   "id": "0f46f729",
   "metadata": {},
   "outputs": [
    {
     "name": "stdout",
     "output_type": "stream",
     "text": [
      "enter a number3\n",
      "factorial is  6\n"
     ]
    }
   ],
   "source": [
    "fact()"
   ]
  },
  {
   "cell_type": "code",
   "execution_count": 38,
   "id": "1874bd0f",
   "metadata": {},
   "outputs": [],
   "source": [
    "def pal():\n",
    "    i=input('enter a string: ')\n",
    "    if i[::]==i[::-1]:\n",
    "        print('palendrome')\n",
    "    else:\n",
    "        print('not a palendrome')"
   ]
  },
  {
   "cell_type": "code",
   "execution_count": 39,
   "id": "53ebcd42",
   "metadata": {},
   "outputs": [
    {
     "name": "stdout",
     "output_type": "stream",
     "text": [
      "enter a string: naman\n",
      "palendrome\n"
     ]
    }
   ],
   "source": [
    "pal()"
   ]
  },
  {
   "cell_type": "code",
   "execution_count": null,
   "id": "030a6720",
   "metadata": {},
   "outputs": [],
   "source": [
    "#DAY 4 exercise problems"
   ]
  },
  {
   "cell_type": "code",
   "execution_count": 40,
   "id": "ea8cf005",
   "metadata": {},
   "outputs": [
    {
     "name": "stdout",
     "output_type": "stream",
     "text": [
      "l\n"
     ]
    }
   ],
   "source": [
    "string1=\"Great learning\"\n",
    "print(string1[6])"
   ]
  },
  {
   "cell_type": "code",
   "execution_count": 41,
   "id": "1194fe31",
   "metadata": {},
   "outputs": [
    {
     "name": "stdout",
     "output_type": "stream",
     "text": [
      "l\n"
     ]
    }
   ],
   "source": [
    "string1=\"Great learning\"\n",
    "print(string1[-8])"
   ]
  },
  {
   "cell_type": "code",
   "execution_count": 47,
   "id": "ac7697c0",
   "metadata": {},
   "outputs": [
    {
     "name": "stdout",
     "output_type": "stream",
     "text": [
      "learning\n"
     ]
    }
   ],
   "source": [
    "string1=\"Great learning\"\n",
    "print(string1[-8:])"
   ]
  },
  {
   "cell_type": "code",
   "execution_count": 49,
   "id": "9fe717ab",
   "metadata": {},
   "outputs": [
    {
     "name": "stdout",
     "output_type": "stream",
     "text": [
      "learning\n"
     ]
    }
   ],
   "source": [
    "string1=\"Great learning\"\n",
    "print(string1[6:])"
   ]
  },
  {
   "cell_type": "code",
   "execution_count": 53,
   "id": "5f322e1c",
   "metadata": {},
   "outputs": [
    {
     "name": "stdout",
     "output_type": "stream",
     "text": [
      "learnin\n"
     ]
    }
   ],
   "source": [
    "string1=\"Great learning\"\n",
    "print(string1[6:-1])"
   ]
  },
  {
   "cell_type": "code",
   "execution_count": 51,
   "id": "1139941d",
   "metadata": {},
   "outputs": [
    {
     "data": {
      "text/plain": [
       "14"
      ]
     },
     "execution_count": 51,
     "metadata": {},
     "output_type": "execute_result"
    }
   ],
   "source": [
    "string1=\"Great learning\"\n",
    "len(string1)"
   ]
  },
  {
   "cell_type": "code",
   "execution_count": 55,
   "id": "71483639",
   "metadata": {},
   "outputs": [
    {
     "name": "stdout",
     "output_type": "stream",
     "text": [
      "ra erig\n"
     ]
    }
   ],
   "source": [
    "string1=\"Great learning\"\n",
    "print(string1[1::2])"
   ]
  },
  {
   "cell_type": "code",
   "execution_count": 57,
   "id": "cea5e035",
   "metadata": {},
   "outputs": [
    {
     "name": "stdout",
     "output_type": "stream",
     "text": [
      "enter the first string: Rahul\n",
      "enter the second string: Rahul\n",
      "both are the same strings\n"
     ]
    }
   ],
   "source": [
    "a=input('enter the first string: ')\n",
    "b=input('enter the second string: ')\n",
    "if a==b:\n",
    "    print('both are the same strings')\n",
    "else:\n",
    "    print('both are not the same strings')"
   ]
  },
  {
   "cell_type": "code",
   "execution_count": null,
   "id": "74ab51e4",
   "metadata": {},
   "outputs": [],
   "source": [
    "str1=\"Python programming language\"\n",
    "str2=\"python\"\n",
    "str3=\"Java\"\n",
    "str[:]\n"
   ]
  },
  {
   "cell_type": "code",
   "execution_count": 59,
   "id": "38366e22",
   "metadata": {},
   "outputs": [],
   "source": [
    "def add(a,b,c):\n",
    "    d=a+b+c\n",
    "    print(d)\n",
    "\n"
   ]
  },
  {
   "cell_type": "code",
   "execution_count": 60,
   "id": "27e84d58",
   "metadata": {},
   "outputs": [
    {
     "name": "stdout",
     "output_type": "stream",
     "text": [
      "15\n"
     ]
    }
   ],
   "source": [
    "add(4,5,6)"
   ]
  },
  {
   "cell_type": "code",
   "execution_count": 61,
   "id": "5db00560",
   "metadata": {},
   "outputs": [],
   "source": [
    "def sq(a):\n",
    "    b=a**2\n",
    "    print(b)"
   ]
  },
  {
   "cell_type": "code",
   "execution_count": 62,
   "id": "0a662d45",
   "metadata": {},
   "outputs": [
    {
     "name": "stdout",
     "output_type": "stream",
     "text": [
      "4\n"
     ]
    }
   ],
   "source": [
    "sq(2)"
   ]
  },
  {
   "cell_type": "code",
   "execution_count": 66,
   "id": "413b5bb2",
   "metadata": {},
   "outputs": [],
   "source": [
    "def power():\n",
    "    a=int(input('enter the base: '))\n",
    "    b=int(input('enter the power to be raised: '))\n",
    "    return a**b"
   ]
  },
  {
   "cell_type": "code",
   "execution_count": 67,
   "id": "af2522ba",
   "metadata": {},
   "outputs": [
    {
     "name": "stdout",
     "output_type": "stream",
     "text": [
      "enter the base: 4\n",
      "enter the power to be raised: 3\n"
     ]
    },
    {
     "data": {
      "text/plain": [
       "64"
      ]
     },
     "execution_count": 67,
     "metadata": {},
     "output_type": "execute_result"
    }
   ],
   "source": [
    "power()"
   ]
  },
  {
   "cell_type": "code",
   "execution_count": 77,
   "id": "adb80753",
   "metadata": {},
   "outputs": [],
   "source": [
    "def factorial(num):\n",
    "    fact=1\n",
    "    for i in range(1,num+1):\n",
    "         fact= i*factorial(num-1)\n",
    "    return fact\n",
    "    \n"
   ]
  },
  {
   "cell_type": "code",
   "execution_count": 78,
   "id": "7ce2e1f7",
   "metadata": {},
   "outputs": [
    {
     "data": {
      "text/plain": [
       "6"
      ]
     },
     "execution_count": 78,
     "metadata": {},
     "output_type": "execute_result"
    }
   ],
   "source": [
    "factorial(3)"
   ]
  },
  {
   "cell_type": "code",
   "execution_count": 82,
   "id": "8a7ee9d6",
   "metadata": {},
   "outputs": [
    {
     "name": "stdout",
     "output_type": "stream",
     "text": [
      "enter the number of terms: 4\n",
      "0\n",
      "1\n",
      "1\n",
      "2\n"
     ]
    }
   ],
   "source": [
    "# fibonacci sequence\n",
    "def fib(n):\n",
    "    if n==1:\n",
    "        return 1\n",
    "    elif n==0:\n",
    "        return 0\n",
    "    else:\n",
    "        return fib(n-1)+fib(n-2)\n",
    "n=int(input('enter the number of terms: '))\n",
    "for i in range(n):\n",
    "    print(fib(i))"
   ]
  },
  {
   "cell_type": "code",
   "execution_count": 81,
   "id": "7eb34fde",
   "metadata": {},
   "outputs": [
    {
     "data": {
      "text/plain": [
       "2"
      ]
     },
     "execution_count": 81,
     "metadata": {},
     "output_type": "execute_result"
    }
   ],
   "source": [
    "fib(3)"
   ]
  },
  {
   "cell_type": "code",
   "execution_count": null,
   "id": "d2ef8559",
   "metadata": {},
   "outputs": [],
   "source": [
    "#armstrong numbers\n",
    "def arm(a):\n",
    "    a=str(a)\n",
    "    b=0\n",
    "    for i in a:\n",
    "        b+=(int(i)**len(a))\n",
    "if b==int(a):\n",
    "    return \"Armstrong\"\n",
    "else:\n",
    "    "
   ]
  },
  {
   "cell_type": "code",
   "execution_count": null,
   "id": "7677a14e",
   "metadata": {},
   "outputs": [],
   "source": []
  },
  {
   "cell_type": "code",
   "execution_count": null,
   "id": "b16c915e",
   "metadata": {},
   "outputs": [],
   "source": []
  },
  {
   "cell_type": "code",
   "execution_count": null,
   "id": "6cdf6171",
   "metadata": {},
   "outputs": [],
   "source": []
  },
  {
   "cell_type": "code",
   "execution_count": null,
   "id": "54b16906",
   "metadata": {},
   "outputs": [],
   "source": []
  },
  {
   "cell_type": "code",
   "execution_count": null,
   "id": "2a28962e",
   "metadata": {},
   "outputs": [],
   "source": []
  }
 ],
 "metadata": {
  "kernelspec": {
   "display_name": "Python 3",
   "language": "python",
   "name": "python3"
  },
  "language_info": {
   "codemirror_mode": {
    "name": "ipython",
    "version": 3
   },
   "file_extension": ".py",
   "mimetype": "text/x-python",
   "name": "python",
   "nbconvert_exporter": "python",
   "pygments_lexer": "ipython3",
   "version": "3.8.8"
  }
 },
 "nbformat": 4,
 "nbformat_minor": 5
}
